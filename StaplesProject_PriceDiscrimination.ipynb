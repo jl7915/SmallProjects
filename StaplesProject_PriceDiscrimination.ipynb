{
 "cells": [
  {
   "cell_type": "markdown",
   "metadata": {},
   "source": [
    "Staples Project: Price Discrimination"
   ]
  },
  {
   "cell_type": "markdown",
   "metadata": {},
   "source": [
    "$$π(P_i,X_i)=[B_0+B_1* X_i+B_2Pi+B_3* X_iP_i](P_i-C_i)$$\n",
    "$$\\frac{2π}{2P_i}= (B_2+B_3*X_i)(P_i-C_i)+(B_0+B_1* X_i +B_2P_i+B_3*X_iP_i)$$\n",
    "$$P_i^M=\\frac{(B_2+ B_3 * X_i)Ci - B_2-B_1*X_i}{2(B_2+B_3 * X_i)}$$\n"
   ]
  },
  {
   "cell_type": "code",
   "execution_count": 31,
   "metadata": {},
   "outputs": [],
   "source": [
    "import pandas as pd\n",
    "from linearmodels import OLS\n",
    "import numpy as np"
   ]
  },
  {
   "cell_type": "code",
   "execution_count": 32,
   "metadata": {},
   "outputs": [
    {
     "data": {
      "text/html": [
       "<div>\n",
       "<style scoped>\n",
       "    .dataframe tbody tr th:only-of-type {\n",
       "        vertical-align: middle;\n",
       "    }\n",
       "\n",
       "    .dataframe tbody tr th {\n",
       "        vertical-align: top;\n",
       "    }\n",
       "\n",
       "    .dataframe thead th {\n",
       "        text-align: right;\n",
       "    }\n",
       "</style>\n",
       "<table border=\"1\" class=\"dataframe\">\n",
       "  <thead>\n",
       "    <tr style=\"text-align: right;\">\n",
       "      <th></th>\n",
       "      <th>Purchase</th>\n",
       "      <th>Price</th>\n",
       "      <th>NotNearCompetingStore</th>\n",
       "      <th>WealthyZipCode</th>\n",
       "      <th>Weekday</th>\n",
       "      <th>ExistingCustomer</th>\n",
       "    </tr>\n",
       "  </thead>\n",
       "  <tbody>\n",
       "    <tr>\n",
       "      <th>1</th>\n",
       "      <td>1</td>\n",
       "      <td>13</td>\n",
       "      <td>0</td>\n",
       "      <td>0</td>\n",
       "      <td>1</td>\n",
       "      <td>0</td>\n",
       "    </tr>\n",
       "    <tr>\n",
       "      <th>2</th>\n",
       "      <td>1</td>\n",
       "      <td>13</td>\n",
       "      <td>1</td>\n",
       "      <td>0</td>\n",
       "      <td>1</td>\n",
       "      <td>1</td>\n",
       "    </tr>\n",
       "    <tr>\n",
       "      <th>3</th>\n",
       "      <td>1</td>\n",
       "      <td>13</td>\n",
       "      <td>0</td>\n",
       "      <td>0</td>\n",
       "      <td>1</td>\n",
       "      <td>0</td>\n",
       "    </tr>\n",
       "    <tr>\n",
       "      <th>4</th>\n",
       "      <td>1</td>\n",
       "      <td>13</td>\n",
       "      <td>0</td>\n",
       "      <td>0</td>\n",
       "      <td>1</td>\n",
       "      <td>0</td>\n",
       "    </tr>\n",
       "    <tr>\n",
       "      <th>5</th>\n",
       "      <td>0</td>\n",
       "      <td>15</td>\n",
       "      <td>0</td>\n",
       "      <td>0</td>\n",
       "      <td>1</td>\n",
       "      <td>0</td>\n",
       "    </tr>\n",
       "  </tbody>\n",
       "</table>\n",
       "</div>"
      ],
      "text/plain": [
       "   Purchase  Price  NotNearCompetingStore  WealthyZipCode  Weekday  \\\n",
       "1         1     13                      0               0        1   \n",
       "2         1     13                      1               0        1   \n",
       "3         1     13                      0               0        1   \n",
       "4         1     13                      0               0        1   \n",
       "5         0     15                      0               0        1   \n",
       "\n",
       "   ExistingCustomer  \n",
       "1                 0  \n",
       "2                 1  \n",
       "3                 0  \n",
       "4                 0  \n",
       "5                 0  "
      ]
     },
     "execution_count": 32,
     "metadata": {},
     "output_type": "execute_result"
    }
   ],
   "source": [
    "# Import data\n",
    "df_data = pd.read_csv(\"StaplesData.csv\", index_col=0)\n",
    "\n",
    "# Set parameters\n",
    "c = 10 # Marginal cost\n",
    "\n",
    "df_data.head()"
   ]
  },
  {
   "cell_type": "code",
   "execution_count": 33,
   "metadata": {
    "scrolled": true
   },
   "outputs": [
    {
     "name": "stdout",
     "output_type": "stream",
     "text": [
      "regression formula Purchase ~ 1 + Price * (NotNearCompetingStore + WealthyZipCode + Weekday + ExistingCustomer) \n",
      "\n",
      "                            OLS Estimation Summary                            \n",
      "==============================================================================\n",
      "Dep. Variable:               Purchase   R-squared:                      0.3230\n",
      "Estimator:                        OLS   Adj. R-squared:                 0.3228\n",
      "No. Observations:               40000   F-statistic:                 6.511e+04\n",
      "Date:                Thu, Jan 27 2022   P-value (F-stat)                0.0000\n",
      "Time:                        00:52:47   Distribution:                  chi2(9)\n",
      "Cov. Estimator:                robust                                         \n",
      "                                                                              \n",
      "                                      Parameter Estimates                                      \n",
      "===============================================================================================\n",
      "                             Parameter  Std. Err.     T-stat    P-value    Lower CI    Upper CI\n",
      "-----------------------------------------------------------------------------------------------\n",
      "Intercept                       2.5703     0.0666     38.572     0.0000      2.4397      2.7010\n",
      "Price                          -0.1586     0.0047    -33.921     0.0000     -0.1677     -0.1494\n",
      "NotNearCompetingStore          -1.1598     0.0558    -20.802     0.0000     -1.2691     -1.0505\n",
      "WealthyZipCode                 -0.1545     0.0660    -2.3415     0.0192     -0.2838     -0.0252\n",
      "Weekday                         0.1239     0.0666     1.8604     0.0628     -0.0066      0.2545\n",
      "ExistingCustomer                0.1045     0.0704     1.4850     0.1375     -0.0334      0.2425\n",
      "Price:NotNearCompetingStore     0.0596     0.0039     15.369     0.0000      0.0520      0.0672\n",
      "Price:WealthyZipCode            0.0468     0.0048     9.7653     0.0000      0.0374      0.0563\n",
      "Price:Weekday                  -0.0051     0.0047    -1.0884     0.2764     -0.0143      0.0041\n",
      "Price:ExistingCustomer         -0.0018     0.0050    -0.3679     0.7129     -0.0116      0.0079\n",
      "===============================================================================================\n"
     ]
    }
   ],
   "source": [
    "covariates = ['NotNearCompetingStore', 'WealthyZipCode', 'Weekday', 'ExistingCustomer']\n",
    "\n",
    "regression_formula =  'Purchase ~ 1 + Price * ({})'.format(' + '.join(covariates))\n",
    "print('regression formula', regression_formula, '\\n')\n",
    "\n",
    "model = OLS.from_formula(regression_formula, df_data)\n",
    "\n",
    "res = model.fit()\n",
    "\n",
    "print(res.summary)\n",
    "\n",
    "# storing the coefficients as vectors \n",
    "beta_0 = res.params.Intercept\n",
    "beta_1 = res.params[covariates]\n",
    "beta_2 = res.params.Price\n",
    "beta_3 = res.params[['Price:' + cov for cov in covariates]]"
   ]
  },
  {
   "cell_type": "markdown",
   "metadata": {},
   "source": [
    "Intercept: 0.0000 \n",
    "Price: 0.0000\n",
    "NotNearCompetingStore: 0.0000\n",
    "WealthyZipCode: 0.0192\n",
    "Weekday: 0.0628 \n",
    "Price:NotNearCompetingStore: 0.0000 \n",
    "Price:WealthyZipCode: 0.0000\n",
    "These are all coefficient estimates whose p-values are below 10%"
   ]
  },
  {
   "cell_type": "code",
   "execution_count": 34,
   "metadata": {},
   "outputs": [
    {
     "name": "stdout",
     "output_type": "stream",
     "text": [
      "0.37556495351773755\n",
      "-0.15857552452320436\n",
      "-0.09902011502659627\n"
     ]
    }
   ],
   "source": [
    "# Not being near a competing store\n",
    "print( 1- (beta_2 + beta_3['Price:NotNearCompetingStore']) / beta_2 ) # reduces by X percent\n",
    "print(beta_2) # from X percentage points\n",
    "print(beta_2 + beta_3['Price:NotNearCompetingStore']) # to X percentage points"
   ]
  },
  {
   "cell_type": "code",
   "execution_count": 35,
   "metadata": {},
   "outputs": [
    {
     "name": "stdout",
     "output_type": "stream",
     "text": [
      "0.2954305570981153\n",
      "-0.15857552452320436\n",
      "-0.11172746897118825\n"
     ]
    }
   ],
   "source": [
    "# Wealthy zip code\n",
    "print( 1- (beta_2 + beta_3['Price:WealthyZipCode']) / beta_2 ) # reduces by X percent\n",
    "print(beta_2) # from X percentage points\n",
    "print(beta_2 + beta_3['Price:WealthyZipCode']) # to X percentage points"
   ]
  },
  {
   "cell_type": "markdown",
   "metadata": {},
   "source": [
    "conditional on the other covariates(WealthyZipCode, Weekday, and ExistingCustomer) , not being near a competing store reduces price responsiveness by 0.37556495351773755 percentage points per dollar of price increase.\n",
    "\n",
    "conditional on the other covariates(NotNearCompetingStore, Weekday, and ExistingCustomer) , being in a wealthy zip code reduces price responsiveness by 0.2954305570981153 percentage points per dollar of price increase.\n",
    "\n",
    "The signs and the magnitudes are consistent with what I expected."
   ]
  },
  {
   "cell_type": "code",
   "execution_count": 36,
   "metadata": {},
   "outputs": [
    {
     "data": {
      "text/plain": [
       "count    40000.000000\n",
       "mean        13.520190\n",
       "std          1.276742\n",
       "min         12.122566\n",
       "25%         13.104497\n",
       "50%         13.230974\n",
       "75%         13.455927\n",
       "max         17.598529\n",
       "Name: monopoly_price, dtype: float64"
      ]
     },
     "execution_count": 36,
     "metadata": {},
     "output_type": "execute_result"
    }
   ],
   "source": [
    "# Profit maximizing prices\n",
    "df_data['monopoly_price'] = c / 2 - (beta_0 + np.dot(df_data[covariates], beta_1)) / (\n",
    "    2 * (beta_2 + np.dot(df_data[covariates], beta_3)))\n",
    "df_data.monopoly_price.describe()"
   ]
  },
  {
   "cell_type": "markdown",
   "metadata": {},
   "source": [
    "min:12.122566\n",
    "max:17.598529\n",
    "mean:13.520190"
   ]
  },
  {
   "cell_type": "code",
   "execution_count": 37,
   "metadata": {},
   "outputs": [
    {
     "name": "stdout",
     "output_type": "stream",
     "text": [
      "       purchase_proba        profit\n",
      "count    40000.000000  40000.000000\n",
      "mean         0.472592      1.892363\n",
      "std          0.142677      0.757085\n",
      "min          0.210177      0.630530\n",
      "25%          0.367183      1.449082\n",
      "50%          0.528805      1.586415\n",
      "75%          0.528805      2.644025\n",
      "max          0.728943      3.644714\n"
     ]
    }
   ],
   "source": [
    "# Expected profit per consumer\n",
    "\n",
    "# Computing purchase probabilities\n",
    "df_data['purchase_proba'] = beta_0 + np.dot(df_data[covariates], beta_1) + beta_2 * df_data.monopoly_price +  np.dot(df_data[covariates], beta_3) * df_data.monopoly_price\n",
    "\n",
    "# Inserting the purchase probabilities and the prices into the profit function\n",
    "df_data['profit'] = (df_data.purchase_proba * (df_data.Price - c))\n",
    "\n",
    "print(df_data[['purchase_proba', 'profit']].describe())"
   ]
  },
  {
   "cell_type": "markdown",
   "metadata": {},
   "source": [
    "min:0.630530\n",
    "max:3.644714\n",
    "mean:1.892363"
   ]
  },
  {
   "cell_type": "markdown",
   "metadata": {},
   "source": [
    "$$π(P)=[\\alpha_0+\\alpha_2 * P](P-C)$$\n",
    "take FOC:\n",
    "$$P^unif=\\frac{C}{2} - \\frac{\\alpha_0}{2*\\alpha_2} $$"
   ]
  },
  {
   "cell_type": "code",
   "execution_count": 38,
   "metadata": {},
   "outputs": [
    {
     "name": "stdout",
     "output_type": "stream",
     "text": [
      "                            OLS Estimation Summary                            \n",
      "==============================================================================\n",
      "Dep. Variable:               Purchase   R-squared:                      0.0777\n",
      "Estimator:                        OLS   Adj. R-squared:                 0.0777\n",
      "No. Observations:               40000   F-statistic:                    3367.6\n",
      "Date:                Thu, Jan 27 2022   P-value (F-stat)                0.0000\n",
      "Time:                        00:52:48   Distribution:                  chi2(1)\n",
      "Cov. Estimator:                robust                                         \n",
      "                                                                              \n",
      "                             Parameter Estimates                              \n",
      "==============================================================================\n",
      "            Parameter  Std. Err.     T-stat    P-value    Lower CI    Upper CI\n",
      "------------------------------------------------------------------------------\n",
      "Intercept      2.2986     0.0332     69.155     0.0000      2.2335      2.3638\n",
      "Price         -0.1361     0.0023    -58.031     0.0000     -0.1407     -0.1315\n",
      "==============================================================================\n"
     ]
    }
   ],
   "source": [
    "# Estimate average demand function\n",
    "\n",
    "model = OLS.from_formula('Purchase ~ 1 + Price', df_data)\n",
    "res = model.fit()\n",
    "print(res.summary)\n",
    "\n",
    "# Storing the coefficients\n",
    "beta_0h = res.params.Intercept\n",
    "beta_2h = res.params.Price"
   ]
  },
  {
   "cell_type": "markdown",
   "metadata": {},
   "source": [
    "$$\\alpha_0 =2.2986$$\n",
    "$$\\alpha_2 =-0.1361$$"
   ]
  },
  {
   "cell_type": "markdown",
   "metadata": {},
   "source": [
    "A dollar increase in price is associated with a 0.1361 decline in purchase probability."
   ]
  },
  {
   "cell_type": "code",
   "execution_count": 39,
   "metadata": {
    "scrolled": true
   },
   "outputs": [
    {
     "name": "stdout",
     "output_type": "stream",
     "text": [
      "13.443140640542051\n"
     ]
    }
   ],
   "source": [
    "# Profit-maximizing uniform price \n",
    "uniform_monopoly_price = c / 2 - beta_0h / (2 * beta_2h)\n",
    "print(uniform_monopoly_price) "
   ]
  },
  {
   "cell_type": "markdown",
   "metadata": {},
   "source": [
    "The profit-maximizing uniform price is $13.44."
   ]
  },
  {
   "cell_type": "code",
   "execution_count": 40,
   "metadata": {},
   "outputs": [
    {
     "name": "stdout",
     "output_type": "stream",
     "text": [
      "       purchase_proba_unif_price  profit_unif_price\n",
      "count               40000.000000       40000.000000\n",
      "mean                    0.469590           1.616865\n",
      "std                     0.242354           0.834458\n",
      "min                     0.079413           0.273431\n",
      "25%                     0.438597           1.510150\n",
      "50%                     0.494080           1.701188\n",
      "75%                     0.554729           1.910011\n",
      "max                     1.049369           3.613125\n"
     ]
    }
   ],
   "source": [
    "# Expected profit under uniform price\n",
    "df_data['purchase_proba_unif_price'] = beta_0 + np.dot(df_data[covariates], beta_1) + \\\n",
    "    (beta_2 + np.dot(df_data[covariates], beta_3)) * uniform_monopoly_price\n",
    "\n",
    "\n",
    "#Inserting the purchase probabilities and the prices into the profit function\n",
    "df_data['profit_unif_price'] = (df_data.purchase_proba_unif_price * (uniform_monopoly_price - c))\n",
    "\n",
    "print(df_data[['purchase_proba_unif_price', 'profit_unif_price']].describe())"
   ]
  },
  {
   "cell_type": "code",
   "execution_count": 41,
   "metadata": {},
   "outputs": [
    {
     "name": "stdout",
     "output_type": "stream",
     "text": [
      "11019.925474385796\n"
     ]
    }
   ],
   "source": [
    "# Profit loss from uniform pricing\n",
    "\n",
    "Profit_loss_uniform = sum(df_data['profit'] - df_data['profit_unif_price'])\n",
    "print(Profit_loss_uniform)"
   ]
  },
  {
   "cell_type": "markdown",
   "metadata": {},
   "source": [
    "The expected profit loss from uniform pricing instead of price discrimination is $11019.93"
   ]
  },
  {
   "cell_type": "markdown",
   "metadata": {},
   "source": [
    "Examples of data other than the variables in StaplesData.csv that might better predict purchase probability are whether there is a staples nearby their IP address and how many orders they have made with staples previously."
   ]
  },
  {
   "cell_type": "markdown",
   "metadata": {},
   "source": [
    "Some caveats I would like my manager to understand is that; there is a possibility that some low-income people live in zipcode areas that are considered 'wealthy' and being an existing customer may or may not be a good thing depending on the persons past experience with a staples product."
   ]
  }
 ],
 "metadata": {
  "kernelspec": {
   "display_name": "Python 3",
   "language": "python",
   "name": "python3"
  },
  "language_info": {
   "codemirror_mode": {
    "name": "ipython",
    "version": 3
   },
   "file_extension": ".py",
   "mimetype": "text/x-python",
   "name": "python",
   "nbconvert_exporter": "python",
   "pygments_lexer": "ipython3",
   "version": "3.7.3"
  }
 },
 "nbformat": 4,
 "nbformat_minor": 2
}
