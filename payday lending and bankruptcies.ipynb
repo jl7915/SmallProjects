{
 "cells": [
  {
   "cell_type": "code",
   "execution_count": 6,
   "metadata": {},
   "outputs": [],
   "source": [
    "import linearmodels as lm\n",
    "import pandas as pd\n",
    "import seaborn as sns\n",
    "import re \n",
    "%matplotlib inline"
   ]
  },
  {
   "cell_type": "code",
   "execution_count": 7,
   "metadata": {},
   "outputs": [
    {
     "data": {
      "text/html": [
       "<div>\n",
       "<style scoped>\n",
       "    .dataframe tbody tr th:only-of-type {\n",
       "        vertical-align: middle;\n",
       "    }\n",
       "\n",
       "    .dataframe tbody tr th {\n",
       "        vertical-align: top;\n",
       "    }\n",
       "\n",
       "    .dataframe thead th {\n",
       "        text-align: right;\n",
       "    }\n",
       "</style>\n",
       "<table border=\"1\" class=\"dataframe\">\n",
       "  <thead>\n",
       "    <tr style=\"text-align: right;\">\n",
       "      <th></th>\n",
       "      <th></th>\n",
       "      <th>Bankruptcies</th>\n",
       "    </tr>\n",
       "    <tr>\n",
       "      <th>Year</th>\n",
       "      <th>State</th>\n",
       "      <th></th>\n",
       "    </tr>\n",
       "  </thead>\n",
       "  <tbody>\n",
       "    <tr>\n",
       "      <th rowspan=\"5\" valign=\"top\">2006</th>\n",
       "      <th>Alabama</th>\n",
       "      <td>19546</td>\n",
       "    </tr>\n",
       "    <tr>\n",
       "      <th>Alaska</th>\n",
       "      <td>579</td>\n",
       "    </tr>\n",
       "    <tr>\n",
       "      <th>Arizona</th>\n",
       "      <td>7536</td>\n",
       "    </tr>\n",
       "    <tr>\n",
       "      <th>Arkansas</th>\n",
       "      <td>9290</td>\n",
       "    </tr>\n",
       "    <tr>\n",
       "      <th>California</th>\n",
       "      <td>37171</td>\n",
       "    </tr>\n",
       "  </tbody>\n",
       "</table>\n",
       "</div>"
      ],
      "text/plain": [
       "                 Bankruptcies\n",
       "Year State                   \n",
       "2006 Alabama            19546\n",
       "     Alaska               579\n",
       "     Arizona             7536\n",
       "     Arkansas            9290\n",
       "     California         37171"
      ]
     },
     "execution_count": 7,
     "metadata": {},
     "output_type": "execute_result"
    }
   ],
   "source": [
    "# Data Prep\n",
    "# Import and reshape bankruptcies\n",
    "# Import the data\n",
    "Bankruptcies = pd.read_csv(\"Bankruptcies.csv\", index_col=0) \n",
    "\n",
    "#simplify column names\n",
    "def simplify_name(s):\n",
    "    p = re.compile('Personal Bankruptcies (.*)  - Bankruptcies\\n  - #')\n",
    "    result = p.search(s)\n",
    "    return result.group(1)\n",
    "\n",
    "new_names = [simplify_name(name) for name in Bankruptcies.columns]\n",
    "Bankruptcies.columns = new_names\n",
    "\n",
    "\n",
    "# reshape dataframe using a year x state index\n",
    "def reshape_dataframe(df, col_name=''):\n",
    "    df = df.stack()\n",
    "    df.index.names = ['Year', 'State']\n",
    "    df.index\n",
    "    return df.sort_index().to_frame(col_name)\n",
    "        \n",
    "Bankruptcies = reshape_dataframe(Bankruptcies, 'Bankruptcies')\n",
    "Bankruptcies.head()"
   ]
  },
  {
   "cell_type": "code",
   "execution_count": 8,
   "metadata": {},
   "outputs": [
    {
     "name": "stdout",
     "output_type": "stream",
     "text": [
      "Index(['2006', '2007', '2008', '2009', '2010', '2011', '2012'], dtype='object')\n",
      "Int64Index([2006, 2007, 2008, 2009, 2010, 2011, 2012], dtype='int64', name='Year')\n"
     ]
    },
    {
     "data": {
      "text/html": [
       "<div>\n",
       "<style scoped>\n",
       "    .dataframe tbody tr th:only-of-type {\n",
       "        vertical-align: middle;\n",
       "    }\n",
       "\n",
       "    .dataframe tbody tr th {\n",
       "        vertical-align: top;\n",
       "    }\n",
       "\n",
       "    .dataframe thead th {\n",
       "        text-align: right;\n",
       "    }\n",
       "</style>\n",
       "<table border=\"1\" class=\"dataframe\">\n",
       "  <thead>\n",
       "    <tr style=\"text-align: right;\">\n",
       "      <th></th>\n",
       "      <th></th>\n",
       "      <th>Income</th>\n",
       "    </tr>\n",
       "    <tr>\n",
       "      <th>Year</th>\n",
       "      <th>State</th>\n",
       "      <th></th>\n",
       "    </tr>\n",
       "  </thead>\n",
       "  <tbody>\n",
       "    <tr>\n",
       "      <th rowspan=\"5\" valign=\"top\">2006</th>\n",
       "      <th>Alabama</th>\n",
       "      <td>31306</td>\n",
       "    </tr>\n",
       "    <tr>\n",
       "      <th>Alaska</th>\n",
       "      <td>40881</td>\n",
       "    </tr>\n",
       "    <tr>\n",
       "      <th>Arizona</th>\n",
       "      <td>34667</td>\n",
       "    </tr>\n",
       "    <tr>\n",
       "      <th>Arkansas</th>\n",
       "      <td>29422</td>\n",
       "    </tr>\n",
       "    <tr>\n",
       "      <th>California</th>\n",
       "      <td>42139</td>\n",
       "    </tr>\n",
       "  </tbody>\n",
       "</table>\n",
       "</div>"
      ],
      "text/plain": [
       "                 Income\n",
       "Year State             \n",
       "2006 Alabama      31306\n",
       "     Alaska       40881\n",
       "     Arizona      34667\n",
       "     Arkansas     29422\n",
       "     California   42139"
      ]
     },
     "execution_count": 8,
     "metadata": {},
     "output_type": "execute_result"
    }
   ],
   "source": [
    "#Import and reshape income\n",
    "#Import the data\n",
    "Income = pd.read_csv( \"Income.csv\")\n",
    "Income['GeoName'] = Income['GeoName'].apply(lambda x: x.rstrip(' ').rstrip(' *'))\n",
    "\n",
    "Income = Income.set_index('GeoName')\n",
    "\n",
    "# in our context, when the year corresponds to a column, it's stored as a string\n",
    "print(Income.columns)\n",
    "#Index(['2006', '2007', '2008', '2009', '2010', '2011', '2012'], dtype='object')\n",
    "\n",
    "# the function below makes sure the year is treated as a number when we transpose\n",
    "\n",
    "\n",
    "def transpose_dataframe(df):\n",
    "    \n",
    "    df.columns = df.columns.astype(int) \n",
    "    return df.T\n",
    "\n",
    "Income = reshape_dataframe(transpose_dataframe(Income), 'Income')\n",
    "\n",
    "# The Year index is indeed treated as an Integer\n",
    "print(Income.index.levels[0])\n",
    "#Int64Index([2006, 2007, 2008, 2009, 2010, 2011, 2012], dtype='int64', name='Year')\n",
    "\n",
    "Income.head()"
   ]
  },
  {
   "cell_type": "code",
   "execution_count": 9,
   "metadata": {},
   "outputs": [
    {
     "data": {
      "text/html": [
       "<div>\n",
       "<style scoped>\n",
       "    .dataframe tbody tr th:only-of-type {\n",
       "        vertical-align: middle;\n",
       "    }\n",
       "\n",
       "    .dataframe tbody tr th {\n",
       "        vertical-align: top;\n",
       "    }\n",
       "\n",
       "    .dataframe thead th {\n",
       "        text-align: right;\n",
       "    }\n",
       "</style>\n",
       "<table border=\"1\" class=\"dataframe\">\n",
       "  <thead>\n",
       "    <tr style=\"text-align: right;\">\n",
       "      <th></th>\n",
       "      <th></th>\n",
       "      <th>Law_Restrictions</th>\n",
       "    </tr>\n",
       "    <tr>\n",
       "      <th>Year</th>\n",
       "      <th>State</th>\n",
       "      <th></th>\n",
       "    </tr>\n",
       "  </thead>\n",
       "  <tbody>\n",
       "    <tr>\n",
       "      <th rowspan=\"5\" valign=\"top\">2006</th>\n",
       "      <th>Alabama</th>\n",
       "      <td>0</td>\n",
       "    </tr>\n",
       "    <tr>\n",
       "      <th>Alaska</th>\n",
       "      <td>0</td>\n",
       "    </tr>\n",
       "    <tr>\n",
       "      <th>Arizona</th>\n",
       "      <td>0</td>\n",
       "    </tr>\n",
       "    <tr>\n",
       "      <th>Arkansas</th>\n",
       "      <td>0</td>\n",
       "    </tr>\n",
       "    <tr>\n",
       "      <th>California</th>\n",
       "      <td>0</td>\n",
       "    </tr>\n",
       "  </tbody>\n",
       "</table>\n",
       "</div>"
      ],
      "text/plain": [
       "                 Law_Restrictions\n",
       "Year State                       \n",
       "2006 Alabama                    0\n",
       "     Alaska                     0\n",
       "     Arizona                    0\n",
       "     Arkansas                   0\n",
       "     California                 0"
      ]
     },
     "execution_count": 9,
     "metadata": {},
     "output_type": "execute_result"
    }
   ],
   "source": [
    "#Import and reshape Law_Restrictions\n",
    "#Import data\n",
    "\n",
    "Law_Restrictions = pd.read_csv(\"Bhutta_Law_Restrictions.csv\", index_col=0)\n",
    "\n",
    "# reshape dataframe using a year x state index\n",
    "def reshape_dataframe(df, col_name=''):\n",
    "    df = df.stack()\n",
    "    df.index.names = ['Year', 'State']\n",
    "    df.index\n",
    "    return df.sort_index().to_frame(col_name)\n",
    "\n",
    "Law_Restrictions = reshape_dataframe(transpose_dataframe(Law_Restrictions), 'Law_Restrictions')# reshape dataframe like we did for Income\n",
    "Law_Restrictions.head()"
   ]
  },
  {
   "cell_type": "code",
   "execution_count": 10,
   "metadata": {},
   "outputs": [
    {
     "data": {
      "text/html": [
       "<div>\n",
       "<style scoped>\n",
       "    .dataframe tbody tr th:only-of-type {\n",
       "        vertical-align: middle;\n",
       "    }\n",
       "\n",
       "    .dataframe tbody tr th {\n",
       "        vertical-align: top;\n",
       "    }\n",
       "\n",
       "    .dataframe thead th {\n",
       "        text-align: right;\n",
       "    }\n",
       "</style>\n",
       "<table border=\"1\" class=\"dataframe\">\n",
       "  <thead>\n",
       "    <tr style=\"text-align: right;\">\n",
       "      <th></th>\n",
       "      <th></th>\n",
       "      <th>Bankruptcies</th>\n",
       "      <th>Income</th>\n",
       "      <th>Law_Restrictions</th>\n",
       "    </tr>\n",
       "    <tr>\n",
       "      <th>Year</th>\n",
       "      <th>State</th>\n",
       "      <th></th>\n",
       "      <th></th>\n",
       "      <th></th>\n",
       "    </tr>\n",
       "  </thead>\n",
       "  <tbody>\n",
       "    <tr>\n",
       "      <th rowspan=\"5\" valign=\"top\">2006</th>\n",
       "      <th>Alabama</th>\n",
       "      <td>19546.0</td>\n",
       "      <td>31306.0</td>\n",
       "      <td>0.0</td>\n",
       "    </tr>\n",
       "    <tr>\n",
       "      <th>Alaska</th>\n",
       "      <td>579.0</td>\n",
       "      <td>40881.0</td>\n",
       "      <td>0.0</td>\n",
       "    </tr>\n",
       "    <tr>\n",
       "      <th>Arizona</th>\n",
       "      <td>7536.0</td>\n",
       "      <td>34667.0</td>\n",
       "      <td>0.0</td>\n",
       "    </tr>\n",
       "    <tr>\n",
       "      <th>Arkansas</th>\n",
       "      <td>9290.0</td>\n",
       "      <td>29422.0</td>\n",
       "      <td>0.0</td>\n",
       "    </tr>\n",
       "    <tr>\n",
       "      <th>California</th>\n",
       "      <td>37171.0</td>\n",
       "      <td>42139.0</td>\n",
       "      <td>0.0</td>\n",
       "    </tr>\n",
       "  </tbody>\n",
       "</table>\n",
       "</div>"
      ],
      "text/plain": [
       "                 Bankruptcies   Income  Law_Restrictions\n",
       "Year State                                              \n",
       "2006 Alabama          19546.0  31306.0               0.0\n",
       "     Alaska             579.0  40881.0               0.0\n",
       "     Arizona           7536.0  34667.0               0.0\n",
       "     Arkansas          9290.0  29422.0               0.0\n",
       "     California       37171.0  42139.0               0.0"
      ]
     },
     "execution_count": 10,
     "metadata": {},
     "output_type": "execute_result"
    }
   ],
   "source": [
    "#Merge data\n",
    "#Merge Bankruptcies with income to create DiD data\n",
    "data = pd.concat([Bankruptcies, Income, Law_Restrictions], axis=1, sort=False)\n",
    "data = data.dropna()\n",
    "data.head()"
   ]
  },
  {
   "cell_type": "code",
   "execution_count": 11,
   "metadata": {},
   "outputs": [
    {
     "name": "stdout",
     "output_type": "stream",
     "text": [
      "      Bankruptcies        Income\n",
      "Year                            \n",
      "2006  12358.479167  37034.375000\n",
      "2007  16868.312500  38836.625000\n",
      "2008  22059.645833  40181.000000\n",
      "2009  29034.208333  38792.750000\n",
      "2010  31602.062500  40020.062500\n",
      "2011  26392.854167  42234.416667\n",
      "2012  24274.270833  44039.958333\n",
      "        Bankruptcies        Income  Law_Restrictions\n",
      "count     336.000000    336.000000         336.00000\n",
      "mean    23227.119048  40162.741071           0.28869\n",
      "std     29156.639949   6588.660518           0.45383\n",
      "min       579.000000  27907.000000           0.00000\n",
      "25%      4894.000000  35355.250000           0.00000\n",
      "50%     15261.000000  39267.000000           0.00000\n",
      "75%     32364.750000  43676.000000           1.00000\n",
      "max    251294.000000  64958.000000           1.00000\n"
     ]
    },
    {
     "data": {
      "image/png": "[encoded data removed]",
      "text/plain": [
       "<Figure size 1008x432 with 1 Axes>"
      ]
     },
     "metadata": {
      "needs_background": "light"
     },
     "output_type": "display_data"
    }
   ],
   "source": [
    "#Report summary statistics\n",
    "#For Bankruptcies\n",
    "trends_bkrpt_inc = data.groupby(level=0)[['Bankruptcies','Income']].mean()\n",
    "print(trends_bkrpt_inc)\n",
    "trends_bkrpt_inc.plot(figsize=(14,6))\n",
    "\n",
    "# add summary stats for 2011\n",
    "print(data.describe())"
   ]
  },
  {
   "cell_type": "code",
   "execution_count": 12,
   "metadata": {},
   "outputs": [
    {
     "name": "stdout",
     "output_type": "stream",
     "text": [
      "      Law_Restrictions\n",
      "Year                  \n",
      "2006          0.229167\n",
      "2007          0.229167\n",
      "2008          0.250000\n",
      "2009          0.291667\n",
      "2010          0.312500\n",
      "2011          0.354167\n",
      "2012          0.354167\n"
     ]
    },
    {
     "data": {
      "text/plain": [
       "<matplotlib.axes._subplots.AxesSubplot at 0x1a1c97a358>"
      ]
     },
     "execution_count": 12,
     "metadata": {},
     "output_type": "execute_result"
    },
    {
     "data": {
      "image/png": "[encoded data removed]",
      "text/plain": [
       "<Figure size 1008x432 with 1 Axes>"
      ]
     },
     "metadata": {
      "needs_background": "light"
     },
     "output_type": "display_data"
    }
   ],
   "source": [
    "#Analysis\n",
    "#Report how many states have laws restricting payday lending for each of the years using a bar graph\n",
    "#Use aggregate function to aggregate Law Restrictions by year\n",
    "\n",
    "trends_restrict = data.groupby(level=0)[['Law_Restrictions']].mean()\n",
    "print(trends_restrict)\n",
    "trends_restrict.plot(figsize=(14,6))"
   ]
  },
  {
   "cell_type": "code",
   "execution_count": 13,
   "metadata": {},
   "outputs": [
    {
     "data": {
      "text/plain": [
       "<matplotlib.axes._subplots.AxesSubplot at 0x1a1c9f2630>"
      ]
     },
     "execution_count": 13,
     "metadata": {},
     "output_type": "execute_result"
    },
    {
     "data": {
      "image/png": "[encoded data removed]",
      "text/plain": [
       "<Figure size 432x288 with 1 Axes>"
      ]
     },
     "metadata": {
      "needs_background": "light"
     },
     "output_type": "display_data"
    }
   ],
   "source": [
    "#Plot the relationship using a scatterplot between bankruptcy rates and payday lending restrictions for the latest year for which we have data.\n",
    "\n",
    "sns.regplot(y='Bankruptcies', x='Law_Restrictions', data=data.loc[2012, :])"
   ]
  },
  {
   "cell_type": "code",
   "execution_count": 14,
   "metadata": {},
   "outputs": [
    {
     "name": "stdout",
     "output_type": "stream",
     "text": [
      "                            OLS Estimation Summary                            \n",
      "==============================================================================\n",
      "Dep. Variable:           Bankruptcies   R-squared:                      0.0174\n",
      "Estimator:                        OLS   Adj. R-squared:                -0.0040\n",
      "No. Observations:                  48   F-statistic:                    1.2518\n",
      "Date:                Thu, Jan 27 2022   P-value (F-stat)                0.2632\n",
      "Time:                        01:33:40   Distribution:                  chi2(1)\n",
      "Cov. Estimator:                robust                                         \n",
      "                                                                              \n",
      "                                Parameter Estimates                                 \n",
      "====================================================================================\n",
      "                  Parameter  Std. Err.     T-stat    P-value    Lower CI    Upper CI\n",
      "------------------------------------------------------------------------------------\n",
      "Intercept         2.716e+04     6208.5     4.3753     0.0000     1.5e+04   3.933e+04\n",
      "Law_Restrictions    -8158.2     7291.8    -1.1188     0.2632  -2.245e+04      6133.4\n",
      "====================================================================================\n"
     ]
    }
   ],
   "source": [
    "#Estimate the regression coefficient for the relationship bankruptcies and law restrictions\n",
    "model = lm.OLS.from_formula('Bankruptcies~ Law_Restrictions', data=data.loc[2012, :])\n",
    "                            \n",
    "res = model.fit()\n",
    "print(res.summary)"
   ]
  },
  {
   "cell_type": "markdown",
   "metadata": {},
   "source": [
    "I would not interpret the correlation as evidence that payday lending laws cause bankruptcies to increase or decrease. This is because it is likely that there is omitted variable bias happening. We realize that bankruptcies can be affected by other variables such as interest rate and other economic variables."
   ]
  },
  {
   "cell_type": "code",
   "execution_count": 15,
   "metadata": {},
   "outputs": [
    {
     "name": "stdout",
     "output_type": "stream",
     "text": [
      "              Bankruptcies   Income  Law_Restrictions\n",
      "State   Year                                         \n",
      "Alabama 2006       19546.0  31306.0               0.0\n",
      "        2007       23572.0  32573.0               0.0\n",
      "        2008       29018.0  33377.0               0.0\n",
      "        2009       34180.0  32631.0               0.0\n",
      "        2010       33403.0  33844.0               0.0 \n",
      "\n",
      "\n",
      "                          PanelOLS Estimation Summary                           \n",
      "================================================================================\n",
      "Dep. Variable:           Bankruptcies   R-squared:                        0.0015\n",
      "Estimator:                   PanelOLS   R-squared (Between):             -0.0269\n",
      "No. Observations:                 336   R-squared (Within):              -0.0064\n",
      "Date:                Thu, Jan 27 2022   R-squared (Overall):             -0.0245\n",
      "Time:                        01:33:42   Log-likelihood                   -3604.6\n",
      "Cov. Estimator:            Unadjusted                                           \n",
      "                                        F-statistic:                      0.4243\n",
      "Entities:                          53   P-value                           0.5153\n",
      "Avg Obs:                       6.3396   Distribution:                   F(1,281)\n",
      "Min Obs:                       0.0000                                           \n",
      "Max Obs:                       7.0000   F-statistic (robust):             0.4243\n",
      "                                        P-value                           0.5153\n",
      "Time periods:                       7   Distribution:                   F(1,281)\n",
      "Avg Obs:                       48.000                                           \n",
      "Min Obs:                       48.000                                           \n",
      "Max Obs:                       48.000                                           \n",
      "                                                                                \n",
      "                                Parameter Estimates                                 \n",
      "====================================================================================\n",
      "                  Parameter  Std. Err.     T-stat    P-value    Lower CI    Upper CI\n",
      "------------------------------------------------------------------------------------\n",
      "Law_Restrictions    -2684.6     4121.3    -0.6514     0.5153   -1.08e+04      5427.9\n",
      "====================================================================================\n",
      "\n",
      "F-test for Poolability: 31.457\n",
      "P-value: 0.0000\n",
      "Distribution: F(53,281)\n",
      "\n",
      "Included effects: Entity, Time\n"
     ]
    }
   ],
   "source": [
    "#Perform a diff-in-diff analysis without the income control and report the estimates\n",
    "\n",
    "# the typical panel data convention is to have the entity correspond to the first index, and the time correspond to the second index\n",
    "# the *linearmodel* package needs us to follow that convention\n",
    "\n",
    "if data.index.names[0] == 'Year':\n",
    "    data = data.swaplevel(i=0, j=1)\n",
    "    data = data.sort_index()\n",
    "    \n",
    "print(data.head(), '\\n\\n')\n",
    "\n",
    "reg_formula = 'Bankruptcies ~ 0 + EntityEffects + TimeEffects + Law_Restrictions' \n",
    "\n",
    "model = lm.PanelOLS.from_formula(reg_formula, data=data.dropna())\n",
    "res = model.fit()\n",
    "print(res.summary)"
   ]
  },
  {
   "cell_type": "markdown",
   "metadata": {},
   "source": [
    "The coefficient for the dummy representing legal restrictions on payday lending is -2684.6\n",
    "This is statistically significantly different from zero."
   ]
  },
  {
   "cell_type": "code",
   "execution_count": 16,
   "metadata": {},
   "outputs": [
    {
     "name": "stdout",
     "output_type": "stream",
     "text": [
      "                          PanelOLS Estimation Summary                           \n",
      "================================================================================\n",
      "Dep. Variable:           Bankruptcies   R-squared:                        0.0501\n",
      "Estimator:                   PanelOLS   R-squared (Between):             -9.0779\n",
      "No. Observations:                 336   R-squared (Within):              -0.2672\n",
      "Date:                Thu, Jan 27 2022   R-squared (Overall):             -8.0534\n",
      "Time:                        01:33:44   Log-likelihood                   -3596.2\n",
      "Cov. Estimator:            Unadjusted                                           \n",
      "                                        F-statistic:                      7.3798\n",
      "Entities:                          53   P-value                           0.0008\n",
      "Avg Obs:                       6.3396   Distribution:                   F(2,280)\n",
      "Min Obs:                       0.0000                                           \n",
      "Max Obs:                       7.0000   F-statistic (robust):             7.3798\n",
      "                                        P-value                           0.0008\n",
      "Time periods:                       7   Distribution:                   F(2,280)\n",
      "Avg Obs:                       48.000                                           \n",
      "Min Obs:                       48.000                                           \n",
      "Max Obs:                       48.000                                           \n",
      "                                                                                \n",
      "                                Parameter Estimates                                 \n",
      "====================================================================================\n",
      "                  Parameter  Std. Err.     T-stat    P-value    Lower CI    Upper CI\n",
      "------------------------------------------------------------------------------------\n",
      "Law_Restrictions    -4018.8     4042.4    -0.9942     0.3210  -1.198e+04      3938.5\n",
      "Income              -2.0648     0.5457    -3.7835     0.0002     -3.1391     -0.9906\n",
      "====================================================================================\n",
      "\n",
      "F-test for Poolability: 33.211\n",
      "P-value: 0.0000\n",
      "Distribution: F(53,280)\n",
      "\n",
      "Included effects: Entity, Time\n"
     ]
    }
   ],
   "source": [
    "#Adding the control variable \n",
    "#How do the results change?\n",
    "\n",
    "reg_formula_income = 'Bankruptcies ~ 0 + EntityEffects + TimeEffects + Law_Restrictions + Income'\n",
    "\n",
    "model = lm.PanelOLS.from_formula(reg_formula_income, data=data.dropna())\n",
    "res = model.fit()\n",
    "print(res.summary)"
   ]
  },
  {
   "cell_type": "markdown",
   "metadata": {},
   "source": [
    "The estimated coefficient for the dummy representing legal restrictions on payday lending changes noticeably from -2684.6 to -4018.8\n",
    "The estimated coefficient for Income is -2.0648"
   ]
  },
  {
   "cell_type": "markdown",
   "metadata": {},
   "source": [
    "The magnitude of the income coefficient is small at -2.0648, but the relationship between income and bankruptcies is significant. \n",
    "The magnitude of the payday lending restrictions coefficient is large at -4018.8, but the relationship between the payday lending restrictions and bankruptcies is sinignificant."
   ]
  },
  {
   "cell_type": "markdown",
   "metadata": {},
   "source": [
    "We should still be concerned with omitted variables bias now. It is likely that we are not accounting for all existing variables so our estimator may not be correct."
   ]
  },
  {
   "cell_type": "markdown",
   "metadata": {},
   "source": [
    "A nudge is any aspect of the choice architecture that alters people's behavior in a predictable way without forbidding any options or significantly changing their economic incentives. In our case, the CFPB tries to stop payday debt traps by requiring lenders to determine upfront whether people can afford to repay their loans. The law protections require consumers to repay all of most of the debt at once, including payday loans, auto loans, long-term loans with balloon payment etc. \n",
    "There for few specific protections: \n",
    "1. With Full-Payment tests Lenders are required to determine whether the borrower can afford the loan payment and still meet basic living expenses and major financial obligations. \n",
    "2. The Principal-payoff option lets consumers take out a short-term loan of up to $500 without the full-payment test if it is structured to allow the borrower to get out of the debt more gradually. \n",
    "3. Some less risky loan options are available such as loans that pose less risk to consumers do not require the full-payment test or the principal-payoff option. \n",
    "The relationship between income and bankruptcies is significant, and the regulations on income should be established. In this case, by doing a full-payment test, it acts as a pre-screening to lend loans only to those who have relatively high incomes and hence will have the ability to pay back their loans in the future. "
   ]
  }
 ],
 "metadata": {
  "kernelspec": {
   "display_name": "Python 3",
   "language": "python",
   "name": "python3"
  },
  "language_info": {
   "codemirror_mode": {
    "name": "ipython",
    "version": 3
   },
   "file_extension": ".py",
   "mimetype": "text/x-python",
   "name": "python",
   "nbconvert_exporter": "python",
   "pygments_lexer": "ipython3",
   "version": "3.7.3"
  }
 },
 "nbformat": 4,
 "nbformat_minor": 2
}
