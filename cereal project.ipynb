{
 "cells": [
  {
   "cell_type": "markdown",
   "metadata": {},
   "source": [
    "cereal project"
   ]
  },
  {
   "cell_type": "code",
   "execution_count": 2,
   "metadata": {},
   "outputs": [],
   "source": [
    "import pandas as pd\n",
    "from linearmodels import OLS\n",
    "import numpy as np"
   ]
  },
  {
   "cell_type": "code",
   "execution_count": 3,
   "metadata": {
    "scrolled": true
   },
   "outputs": [
    {
     "data": {
      "text/html": [
       "<div>\n",
       "<style scoped>\n",
       "    .dataframe tbody tr th:only-of-type {\n",
       "        vertical-align: middle;\n",
       "    }\n",
       "\n",
       "    .dataframe tbody tr th {\n",
       "        vertical-align: top;\n",
       "    }\n",
       "\n",
       "    .dataframe thead th {\n",
       "        text-align: right;\n",
       "    }\n",
       "</style>\n",
       "<table border=\"1\" class=\"dataframe\">\n",
       "  <thead>\n",
       "    <tr style=\"text-align: right;\">\n",
       "      <th></th>\n",
       "      <th>Manufacturer</th>\n",
       "      <th>Brand</th>\n",
       "      <th>Price</th>\n",
       "      <th>MarketShare</th>\n",
       "      <th>Adult</th>\n",
       "      <th>Kids</th>\n",
       "      <th>Calories</th>\n",
       "      <th>Fat</th>\n",
       "      <th>Sugar</th>\n",
       "    </tr>\n",
       "    <tr>\n",
       "      <th>j</th>\n",
       "      <th></th>\n",
       "      <th></th>\n",
       "      <th></th>\n",
       "      <th></th>\n",
       "      <th></th>\n",
       "      <th></th>\n",
       "      <th></th>\n",
       "      <th></th>\n",
       "      <th></th>\n",
       "    </tr>\n",
       "  </thead>\n",
       "  <tbody>\n",
       "    <tr>\n",
       "      <th>1</th>\n",
       "      <td>Kellogg's</td>\n",
       "      <td>Corn Flakes</td>\n",
       "      <td>1.81</td>\n",
       "      <td>5.67</td>\n",
       "      <td>0</td>\n",
       "      <td>0</td>\n",
       "      <td>100</td>\n",
       "      <td>0.0</td>\n",
       "      <td>2.0</td>\n",
       "    </tr>\n",
       "    <tr>\n",
       "      <th>2</th>\n",
       "      <td>General Mills</td>\n",
       "      <td>Cheerios</td>\n",
       "      <td>3.16</td>\n",
       "      <td>4.38</td>\n",
       "      <td>0</td>\n",
       "      <td>0</td>\n",
       "      <td>110</td>\n",
       "      <td>2.0</td>\n",
       "      <td>1.0</td>\n",
       "    </tr>\n",
       "    <tr>\n",
       "      <th>3</th>\n",
       "      <td>Kellogg's</td>\n",
       "      <td>Rice Krispies</td>\n",
       "      <td>2.96</td>\n",
       "      <td>4.04</td>\n",
       "      <td>0</td>\n",
       "      <td>0</td>\n",
       "      <td>120</td>\n",
       "      <td>0.0</td>\n",
       "      <td>3.0</td>\n",
       "    </tr>\n",
       "    <tr>\n",
       "      <th>4</th>\n",
       "      <td>Kellogg's</td>\n",
       "      <td>Frosted Flakes</td>\n",
       "      <td>2.52</td>\n",
       "      <td>3.82</td>\n",
       "      <td>0</td>\n",
       "      <td>0</td>\n",
       "      <td>120</td>\n",
       "      <td>0.0</td>\n",
       "      <td>13.0</td>\n",
       "    </tr>\n",
       "    <tr>\n",
       "      <th>5</th>\n",
       "      <td>Kellogg's</td>\n",
       "      <td>Raisin Bran</td>\n",
       "      <td>2.34</td>\n",
       "      <td>2.73</td>\n",
       "      <td>0</td>\n",
       "      <td>0</td>\n",
       "      <td>200</td>\n",
       "      <td>1.5</td>\n",
       "      <td>18.0</td>\n",
       "    </tr>\n",
       "  </tbody>\n",
       "</table>\n",
       "</div>"
      ],
      "text/plain": [
       "    Manufacturer           Brand  Price  MarketShare  Adult  Kids  Calories  \\\n",
       "j                                                                             \n",
       "1      Kellogg's     Corn Flakes   1.81         5.67      0     0       100   \n",
       "2  General Mills        Cheerios   3.16         4.38      0     0       110   \n",
       "3      Kellogg's   Rice Krispies   2.96         4.04      0     0       120   \n",
       "4      Kellogg's  Frosted Flakes   2.52         3.82      0     0       120   \n",
       "5      Kellogg's     Raisin Bran   2.34         2.73      0     0       200   \n",
       "\n",
       "   Fat  Sugar  \n",
       "j              \n",
       "1  0.0    2.0  \n",
       "2  2.0    1.0  \n",
       "3  0.0    3.0  \n",
       "4  0.0   13.0  \n",
       "5  1.5   18.0  "
      ]
     },
     "execution_count": 3,
     "metadata": {},
     "output_type": "execute_result"
    }
   ],
   "source": [
    "df_data = pd.read_csv(\"CerealData.csv\", index_col=0)\n",
    "df_data.head()"
   ]
  },
  {
   "cell_type": "code",
   "execution_count": 4,
   "metadata": {},
   "outputs": [
    {
     "data": {
      "text/html": [
       "<div>\n",
       "<style scoped>\n",
       "    .dataframe tbody tr th:only-of-type {\n",
       "        vertical-align: middle;\n",
       "    }\n",
       "\n",
       "    .dataframe tbody tr th {\n",
       "        vertical-align: top;\n",
       "    }\n",
       "\n",
       "    .dataframe thead th {\n",
       "        text-align: right;\n",
       "    }\n",
       "</style>\n",
       "<table border=\"1\" class=\"dataframe\">\n",
       "  <thead>\n",
       "    <tr style=\"text-align: right;\">\n",
       "      <th></th>\n",
       "      <th>Manufacturer</th>\n",
       "      <th>Brand</th>\n",
       "      <th>Price</th>\n",
       "      <th>MarketShare</th>\n",
       "      <th>Adult</th>\n",
       "      <th>Kids</th>\n",
       "      <th>Calories</th>\n",
       "      <th>Fat</th>\n",
       "      <th>Sugar</th>\n",
       "      <th>log_ratio_market_shares</th>\n",
       "    </tr>\n",
       "    <tr>\n",
       "      <th>j</th>\n",
       "      <th></th>\n",
       "      <th></th>\n",
       "      <th></th>\n",
       "      <th></th>\n",
       "      <th></th>\n",
       "      <th></th>\n",
       "      <th></th>\n",
       "      <th></th>\n",
       "      <th></th>\n",
       "      <th></th>\n",
       "    </tr>\n",
       "  </thead>\n",
       "  <tbody>\n",
       "    <tr>\n",
       "      <th>1</th>\n",
       "      <td>Kellogg's</td>\n",
       "      <td>Corn Flakes</td>\n",
       "      <td>1.81</td>\n",
       "      <td>5.67</td>\n",
       "      <td>0</td>\n",
       "      <td>0</td>\n",
       "      <td>100</td>\n",
       "      <td>0.0</td>\n",
       "      <td>2.0</td>\n",
       "      <td>-1.452402</td>\n",
       "    </tr>\n",
       "    <tr>\n",
       "      <th>2</th>\n",
       "      <td>General Mills</td>\n",
       "      <td>Cheerios</td>\n",
       "      <td>3.16</td>\n",
       "      <td>4.38</td>\n",
       "      <td>0</td>\n",
       "      <td>0</td>\n",
       "      <td>110</td>\n",
       "      <td>2.0</td>\n",
       "      <td>1.0</td>\n",
       "      <td>-1.710543</td>\n",
       "    </tr>\n",
       "    <tr>\n",
       "      <th>3</th>\n",
       "      <td>Kellogg's</td>\n",
       "      <td>Rice Krispies</td>\n",
       "      <td>2.96</td>\n",
       "      <td>4.04</td>\n",
       "      <td>0</td>\n",
       "      <td>0</td>\n",
       "      <td>120</td>\n",
       "      <td>0.0</td>\n",
       "      <td>3.0</td>\n",
       "      <td>-1.791347</td>\n",
       "    </tr>\n",
       "    <tr>\n",
       "      <th>4</th>\n",
       "      <td>Kellogg's</td>\n",
       "      <td>Frosted Flakes</td>\n",
       "      <td>2.52</td>\n",
       "      <td>3.82</td>\n",
       "      <td>0</td>\n",
       "      <td>0</td>\n",
       "      <td>120</td>\n",
       "      <td>0.0</td>\n",
       "      <td>13.0</td>\n",
       "      <td>-1.847341</td>\n",
       "    </tr>\n",
       "    <tr>\n",
       "      <th>5</th>\n",
       "      <td>Kellogg's</td>\n",
       "      <td>Raisin Bran</td>\n",
       "      <td>2.34</td>\n",
       "      <td>2.73</td>\n",
       "      <td>0</td>\n",
       "      <td>0</td>\n",
       "      <td>200</td>\n",
       "      <td>1.5</td>\n",
       "      <td>18.0</td>\n",
       "      <td>-2.183290</td>\n",
       "    </tr>\n",
       "  </tbody>\n",
       "</table>\n",
       "</div>"
      ],
      "text/plain": [
       "    Manufacturer           Brand  Price  MarketShare  Adult  Kids  Calories  \\\n",
       "j                                                                             \n",
       "1      Kellogg's     Corn Flakes   1.81         5.67      0     0       100   \n",
       "2  General Mills        Cheerios   3.16         4.38      0     0       110   \n",
       "3      Kellogg's   Rice Krispies   2.96         4.04      0     0       120   \n",
       "4      Kellogg's  Frosted Flakes   2.52         3.82      0     0       120   \n",
       "5      Kellogg's     Raisin Bran   2.34         2.73      0     0       200   \n",
       "\n",
       "   Fat  Sugar  log_ratio_market_shares  \n",
       "j                                       \n",
       "1  0.0    2.0                -1.452402  \n",
       "2  2.0    1.0                -1.710543  \n",
       "3  0.0    3.0                -1.791347  \n",
       "4  0.0   13.0                -1.847341  \n",
       "5  1.5   18.0                -2.183290  "
      ]
     },
     "execution_count": 4,
     "metadata": {},
     "output_type": "execute_result"
    }
   ],
   "source": [
    "covariates = ['Price', 'Adult', 'Kids', 'Calories', 'Fat', 'Sugar']\n",
    "\n",
    "s0 = 100 - df_data.MarketShare.sum()\n",
    "df_data['log_ratio_market_shares'] = np.log(df_data.MarketShare / s0)\n",
    "df_data.head()"
   ]
  },
  {
   "cell_type": "code",
   "execution_count": 5,
   "metadata": {
    "scrolled": false
   },
   "outputs": [
    {
     "name": "stdout",
     "output_type": "stream",
     "text": [
      "                               OLS Estimation Summary                              \n",
      "===================================================================================\n",
      "Dep. Variable:     log_ratio_market_shares   R-squared:                      0.3486\n",
      "Estimator:                             OLS   Adj. R-squared:                 0.2577\n",
      "No. Observations:                       50   F-statistic:                    20.666\n",
      "Date:                     Thu, Jan 27 2022   P-value (F-stat)                0.0021\n",
      "Time:                             01:14:49   Distribution:                  chi2(6)\n",
      "Cov. Estimator:                     robust                                         \n",
      "                                                                                   \n",
      "                             Parameter Estimates                              \n",
      "==============================================================================\n",
      "            Parameter  Std. Err.     T-stat    P-value    Lower CI    Upper CI\n",
      "------------------------------------------------------------------------------\n",
      "Intercept     -2.2186     0.6094    -3.6407     0.0003     -3.4130     -1.0242\n",
      "Price         -0.0804     0.1494    -0.5381     0.5905     -0.3732      0.2124\n",
      "Adult         -0.5748     0.2081    -2.7616     0.0058     -0.9828     -0.1669\n",
      "Kids          -0.5037     0.1910    -2.6377     0.0083     -0.8780     -0.1294\n",
      "Calories       0.0024     0.0029     0.8424     0.3996     -0.0032      0.0081\n",
      "Fat            0.0113     0.0419     0.2698     0.7873     -0.0709      0.0935\n",
      "Sugar         -0.0423     0.0159    -2.6578     0.0079     -0.0734     -0.0111\n",
      "==============================================================================\n"
     ]
    }
   ],
   "source": [
    "# Run regression\n",
    "formula_str = 'log_ratio_market_shares ~ 1 + Price + Adult + Kids + Calories + Fat + Sugar'# complete the formula\n",
    "model = OLS.from_formula(formula_str ,df_data)\n",
    "\n",
    "res = model.fit()\n",
    "print(res.summary)\n",
    "beta_price = res.params.Price"
   ]
  },
  {
   "cell_type": "markdown",
   "metadata": {},
   "source": [
    "The β parameter estimates are:\n",
    "$$β_0=-2.2186$$\n",
    "$$β_{Price}=-0.0804$$\n",
    "$$β_{Adult}=-0.5748$$\n",
    "$$β_{Kids}=-0.5037$$\n",
    "$$β_{Calories}=0.0024$$\n",
    "$$β_{Fat}=0.0113$$\n",
    "$$β_{Sugar}=-0.0423$$"
   ]
  },
  {
   "cell_type": "markdown",
   "metadata": {},
   "source": [
    "Two reasons this might not be true are, \n",
    "(1) our OLS assumption is that the residual is uncorrelated with the regressors, so it may be the case that our error term is correlated with at least one of our regressors(prices we observe are not randomly chosen, they are the prices that the firm chose because they're the prices that maximize their prices. In this case, price P is going to be a function of c or some subset of c and so c and P are going to be correlated and our OLS assumption is not going to hold.) and also, (2)prices reflect costs, where manufacturers/firms know more about demand which drives price."
   ]
  },
  {
   "cell_type": "markdown",
   "metadata": {},
   "source": [
    "$$\\eta_{jj}=\\beta_nX_{nj}(1-S_j)$$ "
   ]
  },
  {
   "cell_type": "code",
   "execution_count": 7,
   "metadata": {
    "scrolled": true
   },
   "outputs": [
    {
     "data": {
      "text/plain": [
       "-0.23646783421275863"
      ]
     },
     "execution_count": 7,
     "metadata": {},
     "output_type": "execute_result"
    }
   ],
   "source": [
    "# Creating vector of own-price demand elasticities\n",
    "eta = (beta_price * df_data.Price * (1-df_data.MarketShare/100))\n",
    "eta.mean()"
   ]
  },
  {
   "cell_type": "markdown",
   "metadata": {},
   "source": [
    "it seems inelastic because it is less than one. "
   ]
  },
  {
   "cell_type": "code",
   "execution_count": 8,
   "metadata": {},
   "outputs": [
    {
     "data": {
      "text/html": [
       "<div>\n",
       "<style scoped>\n",
       "    .dataframe tbody tr th:only-of-type {\n",
       "        vertical-align: middle;\n",
       "    }\n",
       "\n",
       "    .dataframe tbody tr th {\n",
       "        vertical-align: top;\n",
       "    }\n",
       "\n",
       "    .dataframe thead th {\n",
       "        text-align: right;\n",
       "    }\n",
       "</style>\n",
       "<table border=\"1\" class=\"dataframe\">\n",
       "  <thead>\n",
       "    <tr style=\"text-align: right;\">\n",
       "      <th></th>\n",
       "      <th>Manufacturer</th>\n",
       "      <th>Brand</th>\n",
       "      <th>Price</th>\n",
       "      <th>MarketShare</th>\n",
       "      <th>Adult</th>\n",
       "      <th>Kids</th>\n",
       "      <th>Calories</th>\n",
       "      <th>Fat</th>\n",
       "      <th>Sugar</th>\n",
       "      <th>log_ratio_market_shares</th>\n",
       "      <th>eV</th>\n",
       "    </tr>\n",
       "    <tr>\n",
       "      <th>j</th>\n",
       "      <th></th>\n",
       "      <th></th>\n",
       "      <th></th>\n",
       "      <th></th>\n",
       "      <th></th>\n",
       "      <th></th>\n",
       "      <th></th>\n",
       "      <th></th>\n",
       "      <th></th>\n",
       "      <th></th>\n",
       "      <th></th>\n",
       "    </tr>\n",
       "  </thead>\n",
       "  <tbody>\n",
       "    <tr>\n",
       "      <th>1</th>\n",
       "      <td>Kellogg's</td>\n",
       "      <td>Corn Flakes</td>\n",
       "      <td>1.81</td>\n",
       "      <td>5.67</td>\n",
       "      <td>0</td>\n",
       "      <td>0</td>\n",
       "      <td>100</td>\n",
       "      <td>0.0</td>\n",
       "      <td>2.0</td>\n",
       "      <td>-1.452402</td>\n",
       "      <td>0.234007</td>\n",
       "    </tr>\n",
       "    <tr>\n",
       "      <th>2</th>\n",
       "      <td>General Mills</td>\n",
       "      <td>Cheerios</td>\n",
       "      <td>3.16</td>\n",
       "      <td>4.38</td>\n",
       "      <td>0</td>\n",
       "      <td>0</td>\n",
       "      <td>110</td>\n",
       "      <td>2.0</td>\n",
       "      <td>1.0</td>\n",
       "      <td>-1.710543</td>\n",
       "      <td>0.180768</td>\n",
       "    </tr>\n",
       "    <tr>\n",
       "      <th>3</th>\n",
       "      <td>Kellogg's</td>\n",
       "      <td>Rice Krispies</td>\n",
       "      <td>2.96</td>\n",
       "      <td>4.04</td>\n",
       "      <td>0</td>\n",
       "      <td>0</td>\n",
       "      <td>120</td>\n",
       "      <td>0.0</td>\n",
       "      <td>3.0</td>\n",
       "      <td>-1.791347</td>\n",
       "      <td>0.166735</td>\n",
       "    </tr>\n",
       "    <tr>\n",
       "      <th>4</th>\n",
       "      <td>Kellogg's</td>\n",
       "      <td>Frosted Flakes</td>\n",
       "      <td>2.52</td>\n",
       "      <td>3.82</td>\n",
       "      <td>0</td>\n",
       "      <td>0</td>\n",
       "      <td>120</td>\n",
       "      <td>0.0</td>\n",
       "      <td>13.0</td>\n",
       "      <td>-1.847341</td>\n",
       "      <td>0.157656</td>\n",
       "    </tr>\n",
       "    <tr>\n",
       "      <th>5</th>\n",
       "      <td>Kellogg's</td>\n",
       "      <td>Raisin Bran</td>\n",
       "      <td>2.34</td>\n",
       "      <td>2.73</td>\n",
       "      <td>0</td>\n",
       "      <td>0</td>\n",
       "      <td>200</td>\n",
       "      <td>1.5</td>\n",
       "      <td>18.0</td>\n",
       "      <td>-2.183290</td>\n",
       "      <td>0.112670</td>\n",
       "    </tr>\n",
       "  </tbody>\n",
       "</table>\n",
       "</div>"
      ],
      "text/plain": [
       "    Manufacturer           Brand  Price  MarketShare  Adult  Kids  Calories  \\\n",
       "j                                                                             \n",
       "1      Kellogg's     Corn Flakes   1.81         5.67      0     0       100   \n",
       "2  General Mills        Cheerios   3.16         4.38      0     0       110   \n",
       "3      Kellogg's   Rice Krispies   2.96         4.04      0     0       120   \n",
       "4      Kellogg's  Frosted Flakes   2.52         3.82      0     0       120   \n",
       "5      Kellogg's     Raisin Bran   2.34         2.73      0     0       200   \n",
       "\n",
       "   Fat  Sugar  log_ratio_market_shares        eV  \n",
       "j                                                 \n",
       "1  0.0    2.0                -1.452402  0.234007  \n",
       "2  2.0    1.0                -1.710543  0.180768  \n",
       "3  0.0    3.0                -1.791347  0.166735  \n",
       "4  0.0   13.0                -1.847341  0.157656  \n",
       "5  1.5   18.0                -2.183290  0.112670  "
      ]
     },
     "execution_count": 8,
     "metadata": {},
     "output_type": "execute_result"
    }
   ],
   "source": [
    "# Creating the eV for each j, i.e. exp(V_j). Notice that exp(V_j) = sj/s0\n",
    "df_data['eV'] = df_data.MarketShare / s0\n",
    "df_data.head()"
   ]
  },
  {
   "cell_type": "code",
   "execution_count": 9,
   "metadata": {},
   "outputs": [],
   "source": [
    "# create the eV for Kellogg's Raisin Bran\n",
    "eV_KRB = df_data.eV.loc[5]"
   ]
  },
  {
   "cell_type": "code",
   "execution_count": 10,
   "metadata": {},
   "outputs": [
    {
     "data": {
      "text/plain": [
       "77.89657653952914"
      ]
     },
     "execution_count": 10,
     "metadata": {},
     "output_type": "execute_result"
    }
   ],
   "source": [
    "sj_NoKRB = 100 * df_data.eV / (1+ sum(df_data.eV) - eV_KRB) \n",
    "sj_NoKRB.sum()"
   ]
  },
  {
   "cell_type": "code",
   "execution_count": 11,
   "metadata": {},
   "outputs": [
    {
     "name": "stdout",
     "output_type": "stream",
     "text": [
      "count    5.000000e+01\n",
      "mean     1.028066e+00\n",
      "std      8.988764e-16\n",
      "min      1.028066e+00\n",
      "25%      1.028066e+00\n",
      "50%      1.028066e+00\n",
      "75%      1.028066e+00\n",
      "max      1.028066e+00\n",
      "Name: ratio, dtype: float64\n"
     ]
    },
    {
     "data": {
      "text/plain": [
       "99.99999999999997"
      ]
     },
     "execution_count": 11,
     "metadata": {},
     "output_type": "execute_result"
    }
   ],
   "source": [
    "df_data['ratio'] = sj_NoKRB / df_data.MarketShare\n",
    "print(df_data.ratio.describe())\n",
    "\n",
    "# Check that new market shares sum to 100, after including additional substitution to the outside option.\n",
    "sum(sj_NoKRB)-sj_NoKRB[5] + np.mean(df_data.ratio) * s0 "
   ]
  },
  {
   "cell_type": "markdown",
   "metadata": {},
   "source": [
    "minimum:1.028066e+00\n",
    "maximum:1.028066e+00\n",
    "mean: 1.028066e+00"
   ]
  },
  {
   "cell_type": "code",
   "execution_count": 12,
   "metadata": {},
   "outputs": [
    {
     "data": {
      "text/html": [
       "<div>\n",
       "<style scoped>\n",
       "    .dataframe tbody tr th:only-of-type {\n",
       "        vertical-align: middle;\n",
       "    }\n",
       "\n",
       "    .dataframe tbody tr th {\n",
       "        vertical-align: top;\n",
       "    }\n",
       "\n",
       "    .dataframe thead th {\n",
       "        text-align: right;\n",
       "    }\n",
       "</style>\n",
       "<table border=\"1\" class=\"dataframe\">\n",
       "  <thead>\n",
       "    <tr style=\"text-align: right;\">\n",
       "      <th></th>\n",
       "      <th>Manufacturer</th>\n",
       "      <th>Brand</th>\n",
       "      <th>Price</th>\n",
       "      <th>MarketShare</th>\n",
       "      <th>Adult</th>\n",
       "      <th>Kids</th>\n",
       "      <th>Calories</th>\n",
       "      <th>Fat</th>\n",
       "      <th>Sugar</th>\n",
       "      <th>log_ratio_market_shares</th>\n",
       "      <th>eV</th>\n",
       "      <th>ratio</th>\n",
       "    </tr>\n",
       "    <tr>\n",
       "      <th>j</th>\n",
       "      <th></th>\n",
       "      <th></th>\n",
       "      <th></th>\n",
       "      <th></th>\n",
       "      <th></th>\n",
       "      <th></th>\n",
       "      <th></th>\n",
       "      <th></th>\n",
       "      <th></th>\n",
       "      <th></th>\n",
       "      <th></th>\n",
       "      <th></th>\n",
       "    </tr>\n",
       "  </thead>\n",
       "  <tbody>\n",
       "    <tr>\n",
       "      <th>9</th>\n",
       "      <td>Post</td>\n",
       "      <td>Grape Nuts</td>\n",
       "      <td>2.14</td>\n",
       "      <td>2.12</td>\n",
       "      <td>1</td>\n",
       "      <td>0</td>\n",
       "      <td>200</td>\n",
       "      <td>1.0</td>\n",
       "      <td>7.0</td>\n",
       "      <td>-2.436175</td>\n",
       "      <td>0.087495</td>\n",
       "      <td>1.028066</td>\n",
       "    </tr>\n",
       "    <tr>\n",
       "      <th>16</th>\n",
       "      <td>Post</td>\n",
       "      <td>Raisin Bran</td>\n",
       "      <td>2.23</td>\n",
       "      <td>1.46</td>\n",
       "      <td>0</td>\n",
       "      <td>0</td>\n",
       "      <td>190</td>\n",
       "      <td>1.0</td>\n",
       "      <td>20.0</td>\n",
       "      <td>-2.809155</td>\n",
       "      <td>0.060256</td>\n",
       "      <td>1.028066</td>\n",
       "    </tr>\n",
       "    <tr>\n",
       "      <th>34</th>\n",
       "      <td>Post</td>\n",
       "      <td>Honey Bunches of Oats</td>\n",
       "      <td>2.85</td>\n",
       "      <td>0.95</td>\n",
       "      <td>1</td>\n",
       "      <td>0</td>\n",
       "      <td>125</td>\n",
       "      <td>2.2</td>\n",
       "      <td>6.0</td>\n",
       "      <td>-3.238885</td>\n",
       "      <td>0.039208</td>\n",
       "      <td>1.028066</td>\n",
       "    </tr>\n",
       "    <tr>\n",
       "      <th>35</th>\n",
       "      <td>Post</td>\n",
       "      <td>Great Grains</td>\n",
       "      <td>2.90</td>\n",
       "      <td>0.89</td>\n",
       "      <td>1</td>\n",
       "      <td>0</td>\n",
       "      <td>215</td>\n",
       "      <td>5.5</td>\n",
       "      <td>10.5</td>\n",
       "      <td>-3.304125</td>\n",
       "      <td>0.036731</td>\n",
       "      <td>1.028066</td>\n",
       "    </tr>\n",
       "    <tr>\n",
       "      <th>44</th>\n",
       "      <td>Post</td>\n",
       "      <td>Fruity Pebbles</td>\n",
       "      <td>3.32</td>\n",
       "      <td>0.83</td>\n",
       "      <td>0</td>\n",
       "      <td>1</td>\n",
       "      <td>110</td>\n",
       "      <td>1.0</td>\n",
       "      <td>12.0</td>\n",
       "      <td>-3.373921</td>\n",
       "      <td>0.034255</td>\n",
       "      <td>1.028066</td>\n",
       "    </tr>\n",
       "    <tr>\n",
       "      <th>49</th>\n",
       "      <td>Post</td>\n",
       "      <td>Honeycomb</td>\n",
       "      <td>3.40</td>\n",
       "      <td>0.74</td>\n",
       "      <td>0</td>\n",
       "      <td>1</td>\n",
       "      <td>110</td>\n",
       "      <td>0.0</td>\n",
       "      <td>11.0</td>\n",
       "      <td>-3.488697</td>\n",
       "      <td>0.030541</td>\n",
       "      <td>1.028066</td>\n",
       "    </tr>\n",
       "  </tbody>\n",
       "</table>\n",
       "</div>"
      ],
      "text/plain": [
       "   Manufacturer                  Brand  Price  MarketShare  Adult  Kids  \\\n",
       "j                                                                         \n",
       "9          Post             Grape Nuts   2.14         2.12      1     0   \n",
       "16         Post            Raisin Bran   2.23         1.46      0     0   \n",
       "34         Post  Honey Bunches of Oats   2.85         0.95      1     0   \n",
       "35         Post           Great Grains   2.90         0.89      1     0   \n",
       "44         Post         Fruity Pebbles   3.32         0.83      0     1   \n",
       "49         Post              Honeycomb   3.40         0.74      0     1   \n",
       "\n",
       "    Calories  Fat  Sugar  log_ratio_market_shares        eV     ratio  \n",
       "j                                                                      \n",
       "9        200  1.0    7.0                -2.436175  0.087495  1.028066  \n",
       "16       190  1.0   20.0                -2.809155  0.060256  1.028066  \n",
       "34       125  2.2    6.0                -3.238885  0.039208  1.028066  \n",
       "35       215  5.5   10.5                -3.304125  0.036731  1.028066  \n",
       "44       110  1.0   12.0                -3.373921  0.034255  1.028066  \n",
       "49       110  0.0   11.0                -3.488697  0.030541  1.028066  "
      ]
     },
     "execution_count": 12,
     "metadata": {},
     "output_type": "execute_result"
    }
   ],
   "source": [
    "# finding Post Raisin Bran\n",
    "df_data[df_data.Manufacturer=='Post']"
   ]
  },
  {
   "cell_type": "markdown",
   "metadata": {},
   "source": [
    "ratio for Post Raisin Bran is 1.028066."
   ]
  },
  {
   "cell_type": "code",
   "execution_count": 13,
   "metadata": {},
   "outputs": [
    {
     "data": {
      "text/html": [
       "<div>\n",
       "<style scoped>\n",
       "    .dataframe tbody tr th:only-of-type {\n",
       "        vertical-align: middle;\n",
       "    }\n",
       "\n",
       "    .dataframe tbody tr th {\n",
       "        vertical-align: top;\n",
       "    }\n",
       "\n",
       "    .dataframe thead th {\n",
       "        text-align: right;\n",
       "    }\n",
       "</style>\n",
       "<table border=\"1\" class=\"dataframe\">\n",
       "  <thead>\n",
       "    <tr style=\"text-align: right;\">\n",
       "      <th></th>\n",
       "      <th>Manufacturer</th>\n",
       "      <th>Brand</th>\n",
       "      <th>Price</th>\n",
       "      <th>MarketShare</th>\n",
       "      <th>Adult</th>\n",
       "      <th>Kids</th>\n",
       "      <th>Calories</th>\n",
       "      <th>Fat</th>\n",
       "      <th>Sugar</th>\n",
       "      <th>log_ratio_market_shares</th>\n",
       "      <th>eV</th>\n",
       "      <th>ratio</th>\n",
       "    </tr>\n",
       "    <tr>\n",
       "      <th>j</th>\n",
       "      <th></th>\n",
       "      <th></th>\n",
       "      <th></th>\n",
       "      <th></th>\n",
       "      <th></th>\n",
       "      <th></th>\n",
       "      <th></th>\n",
       "      <th></th>\n",
       "      <th></th>\n",
       "      <th></th>\n",
       "      <th></th>\n",
       "      <th></th>\n",
       "    </tr>\n",
       "  </thead>\n",
       "  <tbody>\n",
       "    <tr>\n",
       "      <th>18</th>\n",
       "      <td>Kellogg's</td>\n",
       "      <td>Corn Pops</td>\n",
       "      <td>3.51</td>\n",
       "      <td>1.46</td>\n",
       "      <td>0</td>\n",
       "      <td>0</td>\n",
       "      <td>120</td>\n",
       "      <td>0.0</td>\n",
       "      <td>14.0</td>\n",
       "      <td>-2.809155</td>\n",
       "      <td>0.060256</td>\n",
       "      <td>1.028066</td>\n",
       "    </tr>\n",
       "  </tbody>\n",
       "</table>\n",
       "</div>"
      ],
      "text/plain": [
       "   Manufacturer      Brand  Price  MarketShare  Adult  Kids  Calories  Fat  \\\n",
       "j                                                                            \n",
       "18    Kellogg's  Corn Pops   3.51         1.46      0     0       120  0.0   \n",
       "\n",
       "    Sugar  log_ratio_market_shares        eV     ratio  \n",
       "j                                                       \n",
       "18   14.0                -2.809155  0.060256  1.028066  "
      ]
     },
     "execution_count": 13,
     "metadata": {},
     "output_type": "execute_result"
    }
   ],
   "source": [
    "# finding Kellogg's Corn Pops\n",
    "kellogg = df_data[df_data.Manufacturer == \"Kellogg's\"] \n",
    "corn_pops = kellogg[kellogg.Brand=='Corn Pops'] \n",
    "corn_pops"
   ]
  },
  {
   "cell_type": "markdown",
   "metadata": {},
   "source": [
    "ratio for Kellogg's Corn Pops is 1.028066."
   ]
  },
  {
   "cell_type": "markdown",
   "metadata": {},
   "source": [
    "The ratio for Post Raisin Bran and Kellogg's Corn Pops are the same. This is not realistic. "
   ]
  },
  {
   "cell_type": "markdown",
   "metadata": {},
   "source": [
    "$$max_{Pj}\\{S_j(P_j)(P_j-c_j)\\}$$\n",
    "$$\\frac{2π_j}{2P_j}= S_j(P_j)+\\frac{2S_j}{2P_j}(P_j-c_j)=0$$\n",
    "$$\\frac{\\frac{2S_j}{2P_j}= exp(V_j)β_{price}[exp(V_0)+Σ_k exp(V_k)]-exp(V_j)exp(V_j)β_{price}}{[exp(V_0)+Σ_kexp(V_k)^2]}$$\n",
    "$$=β_{price}S_j(1-S_j)$$\n",
    "$$C_J=p_j+\\frac{S_j}{β_{price}S_j(1-S_j)}$$"
   ]
  },
  {
   "cell_type": "code",
   "execution_count": 14,
   "metadata": {},
   "outputs": [
    {
     "name": "stdout",
     "output_type": "stream",
     "text": [
      "count    50.000000\n",
      "mean     -9.646590\n",
      "std       0.548273\n",
      "min     -11.376702\n",
      "25%      -9.971412\n",
      "50%      -9.569460\n",
      "75%      -9.225750\n",
      "max      -8.621183\n",
      "dtype: float64\n"
     ]
    },
    {
     "data": {
      "text/plain": [
       "count    50.000000\n",
       "mean     12.631790\n",
       "std       0.134683\n",
       "min      12.522920\n",
       "25%      12.550717\n",
       "50%      12.583729\n",
       "75%      12.634215\n",
       "max      13.186702\n",
       "dtype: float64"
      ]
     },
     "execution_count": 14,
     "metadata": {},
     "output_type": "execute_result"
    }
   ],
   "source": [
    "df_data.MarketShare = df_data.MarketShare/100\n",
    "cj = (df_data.Price)+ df_data.MarketShare/ (beta_price*df_data.MarketShare*(1-df_data.MarketShare))\n",
    "\n",
    "print(cj.describe())\n",
    "\n",
    "(df_data.Price-cj).describe()\n"
   ]
  },
  {
   "cell_type": "markdown",
   "metadata": {},
   "source": [
    "You get negative marginal costs because Demand is inelastic at every quantity where marginal revenue is negative. We already know that our demand elasticity seems inelastic."
   ]
  },
  {
   "cell_type": "markdown",
   "metadata": {
    "collapsed": true
   },
   "source": [
    "$$Max_{P_j}^{π}=Σ_{K=1}^{MarketTotal}S_kP_k(P_k-C_k)$$\n",
    "\n",
    "each manufacturer must consider the market share of each cereal, the price it costs to produce each brand, and the appropriate price to charge."
   ]
  },
  {
   "cell_type": "markdown",
   "metadata": {},
   "source": [
    "Prices will be lower when they set the price for their brands separately compared to when they set them jointly . We can tell this just by looking at their formulas."
   ]
  }
 ],
 "metadata": {
  "kernelspec": {
   "display_name": "Python 3",
   "language": "python",
   "name": "python3"
  },
  "language_info": {
   "codemirror_mode": {
    "name": "ipython",
    "version": 3
   },
   "file_extension": ".py",
   "mimetype": "text/x-python",
   "name": "python",
   "nbconvert_exporter": "python",
   "pygments_lexer": "ipython3",
   "version": "3.7.3"
  }
 },
 "nbformat": 4,
 "nbformat_minor": 2
}
